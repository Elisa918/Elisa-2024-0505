{
 "cells": [
  {
   "cell_type": "code",
   "execution_count": 1,
   "metadata": {},
   "outputs": [
    {
     "ename": "ModuleNotFoundError",
     "evalue": "No module named 'pydantic'",
     "output_type": "error",
     "traceback": [
      "\u001b[1;31m---------------------------------------------------------------------------\u001b[0m",
      "\u001b[1;31mModuleNotFoundError\u001b[0m                       Traceback (most recent call last)",
      "Cell \u001b[1;32mIn[1], line 1\u001b[0m\n\u001b[1;32m----> 1\u001b[0m \u001b[38;5;28;01mfrom\u001b[39;00m \u001b[38;5;21;01mpydantic\u001b[39;00m \u001b[38;5;28;01mimport\u001b[39;00m BaseModel,Field,ValidationError,field_validator\n\u001b[0;32m      3\u001b[0m \u001b[38;5;28;01mclass\u001b[39;00m \u001b[38;5;21;01mRecord\u001b[39;00m(BaseModel):\n\u001b[0;32m      4\u001b[0m     site_name:\u001b[38;5;28mstr\u001b[39m \u001b[38;5;241m=\u001b[39m Field(alias\u001b[38;5;241m=\u001b[39m\u001b[38;5;124m'\u001b[39m\u001b[38;5;124msitename\u001b[39m\u001b[38;5;124m'\u001b[39m)\n",
      "\u001b[1;31mModuleNotFoundError\u001b[0m: No module named 'pydantic'"
     ]
    }
   ],
   "source": [
    "from pydantic import BaseModel,Field,ValidationError,field_validator\n",
    "\n",
    "class Record(BaseModel):\n",
    "    site_name:str = Field(alias='sitename')\n",
    "    county:str\n",
    "    aqi:int\n",
    "    status:str\n",
    "    pm25:float = Field(alias='pm2.5')\n",
    "\n",
    "    @field_validator('pm25',mode='before')\n",
    "    @classmethod\n",
    "    def pm25_to_zero(cls,value:str) -> str:\n",
    "        if value == '':\n",
    "            return '0.0'\n",
    "        else:\n",
    "            return value\n",
    "\n",
    "class Root(BaseModel):\n",
    "    records:list[Record]\n",
    "\n",
    "\n",
    "with open('aqx_p_488.json',encoding='utf-8') as file:\n",
    "    json_content:str = file.read()\n",
    "\n",
    "try:\n",
    "    aqies:Root = Root.model_validate_json(json_content)\n",
    "except ValidationError as error:\n",
    "    print(error)"
   ]
  },
  {
   "cell_type": "code",
   "execution_count": 4,
   "metadata": {},
   "outputs": [
    {
     "data": {
      "text/plain": [
       "1000"
      ]
     },
     "execution_count": 4,
     "metadata": {},
     "output_type": "execute_result"
    }
   ],
   "source": [
    "all_data= aqies.model_dump() #python的資料結構\n",
    "#aqies.model_dump_json()\n",
    "data_list:list[dict] = all_data['records']\n",
    "len(data_list)"
   ]
  },
  {
   "cell_type": "code",
   "execution_count": 5,
   "metadata": {},
   "outputs": [
    {
     "data": {
      "text/plain": [
       "[2, 4, 6, 8, 10]"
      ]
     },
     "execution_count": 5,
     "metadata": {},
     "output_type": "execute_result"
    }
   ],
   "source": [
    "numbers:list[int] = [1,2,3,4,5,6,7,8,9,10]\n",
    "def is_even(num:int) -> bool | None:\n",
    "   return True if num % 2 == 0 else None      \n",
    "    \n",
    "    \n",
    "list(filter(is_even,numbers))"
   ]
  },
  {
   "cell_type": "code",
   "execution_count": 6,
   "metadata": {},
   "outputs": [
    {
     "data": {
      "text/plain": [
       "2"
      ]
     },
     "execution_count": 6,
     "metadata": {},
     "output_type": "execute_result"
    }
   ],
   "source": [
    "#這個if..else,一行的寫法\n",
    "1 if False else 2"
   ]
  },
  {
   "cell_type": "code",
   "execution_count": 7,
   "metadata": {},
   "outputs": [
    {
     "data": {
      "text/plain": [
       "[2, 4, 6, 8, 10]"
      ]
     },
     "execution_count": 7,
     "metadata": {},
     "output_type": "execute_result"
    }
   ],
   "source": [
    "numbers:list[int] = [1,2,3,4,5,6,7,8,9,10]      \n",
    "list(filter(lambda num:True if num % 2 == 0 else None,numbers))"
   ]
  },
  {
   "cell_type": "code",
   "execution_count": 8,
   "metadata": {},
   "outputs": [
    {
     "data": {
      "text/plain": [
       "987"
      ]
     },
     "execution_count": 8,
     "metadata": {},
     "output_type": "execute_result"
    }
   ],
   "source": [
    "def myfunction(item:dict) -> bool:\n",
    "    if item['pm25'] == 0.0:\n",
    "        return False\n",
    "    else:\n",
    "        return True\n",
    "    \n",
    "filter_list:list[dict] = list(filter(myfunction,data_list))\n",
    "len(filter_list)"
   ]
  },
  {
   "cell_type": "code",
   "execution_count": 8,
   "metadata": {},
   "outputs": [
    {
     "data": {
      "text/plain": [
       "987"
      ]
     },
     "execution_count": 8,
     "metadata": {},
     "output_type": "execute_result"
    }
   ],
   "source": [
    "filter_list:list[dict] = list(filter(lambda item:False if item['pm25']==0 else True,data_list))\n",
    "len(filter_list)"
   ]
  },
  {
   "cell_type": "code",
   "execution_count": 9,
   "metadata": {},
   "outputs": [
    {
     "name": "stdout",
     "output_type": "stream",
     "text": [
      "[19, 21, 31, 91, 92]\n",
      "[92, 91, 31, 21, 19]\n"
     ]
    }
   ],
   "source": [
    "numbers:list[int] = [21, 19, 92, 31, 91]\n",
    "#排序\n",
    "print(sorted(numbers))\n",
    "print(sorted(numbers,reverse=True))"
   ]
  },
  {
   "cell_type": "code",
   "execution_count": 10,
   "metadata": {},
   "outputs": [
    {
     "data": {
      "text/plain": [
       "[{'site_name': '馬公', 'county': '澎湖縣', 'aqi': 28, 'status': '良好', 'pm25': 1.0},\n",
       " {'site_name': '馬公', 'county': '澎湖縣', 'aqi': 31, 'status': '良好', 'pm25': 1.0},\n",
       " {'site_name': '陽明', 'county': '臺北市', 'aqi': 21, 'status': '良好', 'pm25': 1.0},\n",
       " {'site_name': '基隆', 'county': '基隆市', 'aqi': 18, 'status': '良好', 'pm25': 1.0},\n",
       " {'site_name': '馬公', 'county': '澎湖縣', 'aqi': 38, 'status': '良好', 'pm25': 1.0},\n",
       " {'site_name': '屏東(枋山)',\n",
       "  'county': '屏東縣',\n",
       "  'aqi': 37,\n",
       "  'status': '良好',\n",
       "  'pm25': 1.0},\n",
       " {'site_name': '宜蘭', 'county': '宜蘭縣', 'aqi': 35, 'status': '良好', 'pm25': 1.0},\n",
       " {'site_name': '板橋', 'county': '新北市', 'aqi': 27, 'status': '良好', 'pm25': 1.0},\n",
       " {'site_name': '屏東(枋山)',\n",
       "  'county': '屏東縣',\n",
       "  'aqi': 40,\n",
       "  'status': '良好',\n",
       "  'pm25': 1.0},\n",
       " {'site_name': '臺東', 'county': '臺東縣', 'aqi': 24, 'status': '良好', 'pm25': 1.0}]"
      ]
     },
     "execution_count": 10,
     "metadata": {},
     "output_type": "execute_result"
    }
   ],
   "source": [
    "def sorted_function(item:dict):\n",
    "    return item['pm25']\n",
    "\n",
    "sorted_pm25:list[dict] = sorted(filter_list,key=sorted_function)\n",
    "sorted_pm25[0:10]"
   ]
  },
  {
   "cell_type": "code",
   "execution_count": 11,
   "metadata": {},
   "outputs": [
    {
     "data": {
      "text/plain": [
       "[{'site_name': '二林', 'county': '彰化縣', 'aqi': 69, 'status': '普通', 'pm25': 12.0},\n",
       " {'site_name': '二林', 'county': '彰化縣', 'aqi': 71, 'status': '普通', 'pm25': 30.0},\n",
       " {'site_name': '二林', 'county': '彰化縣', 'aqi': 74, 'status': '普通', 'pm25': 31.0},\n",
       " {'site_name': '大城', 'county': '彰化縣', 'aqi': 77, 'status': '普通', 'pm25': 8.0},\n",
       " {'site_name': '馬祖', 'county': '連江縣', 'aqi': 77, 'status': '普通', 'pm25': 8.0},\n",
       " {'site_name': '二林', 'county': '彰化縣', 'aqi': 78, 'status': '普通', 'pm25': 21.0},\n",
       " {'site_name': '二林', 'county': '彰化縣', 'aqi': 80, 'status': '普通', 'pm25': 36.0},\n",
       " {'site_name': '二林', 'county': '彰化縣', 'aqi': 81, 'status': '普通', 'pm25': 23.0},\n",
       " {'site_name': '二林', 'county': '彰化縣', 'aqi': 83, 'status': '普通', 'pm25': 29.0},\n",
       " {'site_name': '朴子',\n",
       "  'county': '嘉義縣',\n",
       "  'aqi': 106,\n",
       "  'status': '對敏感族群不健康',\n",
       "  'pm25': 9.0}]"
      ]
     },
     "execution_count": 11,
     "metadata": {},
     "output_type": "execute_result"
    }
   ],
   "source": [
    "sorted_aqi:list[dict] = sorted(filter_list,key=lambda item:item['aqi'])\n",
    "sorted_aqi[:10]\n",
    "sorted_aqi[-10:]"
   ]
  }
 ],
 "metadata": {
  "kernelspec": {
   "display_name": "Python 3",
   "language": "python",
   "name": "python3"
  },
  "language_info": {
   "codemirror_mode": {
    "name": "ipython",
    "version": 3
   },
   "file_extension": ".py",
   "mimetype": "text/x-python",
   "name": "python",
   "nbconvert_exporter": "python",
   "pygments_lexer": "ipython3",
   "version": "3.10.14"
  }
 },
 "nbformat": 4,
 "nbformat_minor": 2
}
