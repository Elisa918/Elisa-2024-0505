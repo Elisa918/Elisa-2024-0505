{
 "cells": [
  {
   "cell_type": "code",
   "execution_count": null,
   "metadata": {
    "vscode": {
     "languageId": "plaintext"
    }
   },
   "outputs": [],
   "source": [
    "import numpy as np\n",
    "import pandas as pd\n",
    "students = np.random.randint(50,101,size=(50,5))\n",
    "stu = pd.DataFrame(students,\n",
    "             columns=['國文','英文','數學','地理','歷史'],\n",
    "             index=[f'第{i}號' for i in range(1,51)]\n",
    "             )\n",
    "stu"
   ]
  },
  {
   "cell_type": "code",
   "execution_count": null,
   "metadata": {
    "vscode": {
     "languageId": "plaintext"
    }
   },
   "outputs": [],
   "source": [
    "def abc(s)->float: #return value\n",
    "    return s.mean()\n",
    "\n",
    "stu.apply(abc,axis=1)"
   ]
  },
  {
   "cell_type": "code",
   "execution_count": null,
   "metadata": {
    "vscode": {
     "languageId": "plaintext"
    }
   },
   "outputs": [],
   "source": [
    "def efg(s) -> pd.Series: #return series\n",
    "    max_name = s[s == s.max()].index.values.tolist()[0]    \n",
    "    min_name = s[s == s.min()].index.values.tolist()[0]\n",
    "    less60 = \",\".join(list(s[s < 60].index))\n",
    "    return pd.Series([s.mean(),f'{max_name}({s.max()})',f'{min_name}({s.min()})',less60],\n",
    "                     index=[\"平均\",\"最高分\",\"最低分\",\"不及格科目\"])\n",
    "expand_stu = stu.apply(efg,axis=1)\n",
    "pd.concat([stu,expand_stu],axis=1)"
   ]
  },
  {
   "cell_type": "code",
   "execution_count": null,
   "metadata": {
    "vscode": {
     "languageId": "plaintext"
    }
   },
   "outputs": [],
   "source": [
    "stu1 = stu.iloc[0]\n",
    "stu1"
   ]
  },
  {
   "cell_type": "code",
   "execution_count": null,
   "metadata": {
    "vscode": {
     "languageId": "plaintext"
    }
   },
   "outputs": [],
   "source": [
    "stu1[stu1 == stu1.max()].index.values.tolist()[0]"
   ]
  },
  {
   "cell_type": "code",
   "execution_count": null,
   "metadata": {
    "vscode": {
     "languageId": "plaintext"
    }
   },
   "outputs": [],
   "source": [
    "stu2 = stu.loc['第14號']\n",
    "\",\".join(list(stu2[stu2 < 60].index))"
   ]
  }
 ],
 "metadata": {
  "language_info": {
   "name": "python"
  }
 },
 "nbformat": 4,
 "nbformat_minor": 2
}
