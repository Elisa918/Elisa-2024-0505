{
 "cells": [
  {
   "cell_type": "code",
   "execution_count": 1,
   "metadata": {},
   "outputs": [
    {
     "data": {
      "text/plain": [
       "array([[ 66,  66,  70,  75,  80],\n",
       "       [ 59,  71,  64,  60,  88],\n",
       "       [ 76,  64,  63,  98,  86],\n",
       "       [ 77,  80,  99,  89,  79],\n",
       "       [ 78,  64,  51,  75,  80],\n",
       "       [ 93,  51,  75,  86,  81],\n",
       "       [ 71,  74,  95,  63,  55],\n",
       "       [ 98,  63,  68,  88,  75],\n",
       "       [ 62,  75,  52,  87,  84],\n",
       "       [ 64,  56,  81, 100,  58],\n",
       "       [ 85,  93,  74,  89,  62],\n",
       "       [ 77,  84,  87,  92,  70],\n",
       "       [ 68,  72,  70,  98,  95],\n",
       "       [ 57,  94,  80,  62,  86],\n",
       "       [ 65,  56,  94,  59,  86],\n",
       "       [ 76,  93,  99,  75,  74],\n",
       "       [ 84,  83,  60,  86,  94],\n",
       "       [ 65,  83,  50,  71,  62],\n",
       "       [ 89,  60,  75,  75,  69],\n",
       "       [ 97,  91,  68,  97,  73],\n",
       "       [ 91,  99,  72,  55,  55],\n",
       "       [ 66,  97,  86,  95,  80],\n",
       "       [ 63,  91,  98,  59,  70],\n",
       "       [ 66,  89,  96,  95,  66],\n",
       "       [ 50,  52,  99,  81,  53],\n",
       "       [ 85,  54,  82,  62,  68],\n",
       "       [ 82,  50,  85,  88,  89],\n",
       "       [ 87,  93,  88,  90,  72],\n",
       "       [ 68,  65,  55,  91,  81],\n",
       "       [ 96,  60,  93,  95,  60],\n",
       "       [ 77,  78,  78,  79,  85],\n",
       "       [ 85,  73,  99,  85,  69],\n",
       "       [ 99,  87,  63,  60,  72],\n",
       "       [ 55,  71,  95,  73,  77],\n",
       "       [ 75,  58,  97,  50,  93],\n",
       "       [ 75,  52,  61,  97,  63],\n",
       "       [ 54,  89,  62,  91,  76],\n",
       "       [ 53,  96,  81,  66,  88],\n",
       "       [ 57,  99,  83,  91,  86],\n",
       "       [ 99,  97,  84,  95,  64],\n",
       "       [ 90,  94,  61,  66,  67],\n",
       "       [100,  58,  71,  71,  51],\n",
       "       [ 83,  90,  51,  59,  87],\n",
       "       [ 82,  69,  73,  69,  73],\n",
       "       [ 93,  98,  63,  67,  63],\n",
       "       [ 81,  61,  67,  78,  92],\n",
       "       [ 94,  50,  69,  80,  71],\n",
       "       [ 54,  54,  76,  81,  60],\n",
       "       [ 59,  64,  67,  63,  63],\n",
       "       [ 65,  66,  78,  57,  92]])"
      ]
     },
     "execution_count": 1,
     "metadata": {},
     "output_type": "execute_result"
    }
   ],
   "source": [
    "import numpy as np\n",
    "students = np.random.randint(50,101,size=(50,5))\n",
    "students"
   ]
  },
  {
   "cell_type": "code",
   "execution_count": 2,
   "metadata": {},
   "outputs": [
    {
     "data": {
      "text/plain": [
       "array([[81, 61, 67, 78, 92],\n",
       "       [94, 50, 69, 80, 71],\n",
       "       [54, 54, 76, 81, 60],\n",
       "       [59, 64, 67, 63, 63],\n",
       "       [65, 66, 78, 57, 92]])"
      ]
     },
     "execution_count": 2,
     "metadata": {},
     "output_type": "execute_result"
    }
   ],
   "source": [
    "students[0,0]\n",
    "students[:1,:]\n",
    "students[:1] #前一個學生\n",
    "students[:2] #前2個學生\n",
    "students[-5:] #最後5個學生"
   ]
  },
  {
   "cell_type": "code",
   "execution_count": 3,
   "metadata": {},
   "outputs": [
    {
     "data": {
      "text/plain": [
       "array([80, 88, 86, 79, 80, 81, 55, 75, 84, 58, 62, 70, 95, 86, 86, 74, 94,\n",
       "       62, 69, 73, 55, 80, 70, 66, 53, 68, 89, 72, 81, 60, 85, 69, 72, 77,\n",
       "       93, 63, 76, 88, 86, 64, 67, 51, 87, 73, 63, 92, 71, 60, 63, 92])"
      ]
     },
     "execution_count": 3,
     "metadata": {},
     "output_type": "execute_result"
    }
   ],
   "source": [
    "students[:,0] #第一科所有分數\n",
    "students[:,-1] #最後一科所有分數"
   ]
  },
  {
   "cell_type": "code",
   "execution_count": 4,
   "metadata": {},
   "outputs": [
    {
     "data": {
      "text/plain": [
       "array([76.5, 72.5, 75. , 79.5, 73.5])"
      ]
     },
     "execution_count": 4,
     "metadata": {},
     "output_type": "execute_result"
    }
   ],
   "source": [
    "np.sum(students[:1]) #第一個學生總分\n",
    "np.sum(students[:2],axis=1) #前2個學生的總分 \n",
    "np.sum(students,axis=1) #全班每位學生的總分\n",
    "np.mean(students,axis=0) #每一科全班的平均\n",
    "np.median(students,axis=0) #每一科全班的中位數"
   ]
  }
 ],
 "metadata": {
  "kernelspec": {
   "display_name": "Python 3",
   "language": "python",
   "name": "python3"
  },
  "language_info": {
   "codemirror_mode": {
    "name": "ipython",
    "version": 3
   },
   "file_extension": ".py",
   "mimetype": "text/x-python",
   "name": "python",
   "nbconvert_exporter": "python",
   "pygments_lexer": "ipython3",
   "version": "3.10.14"
  }
 },
 "nbformat": 4,
 "nbformat_minor": 2
}
