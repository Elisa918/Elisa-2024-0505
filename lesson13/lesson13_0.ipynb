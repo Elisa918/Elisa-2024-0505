{
 "cells": [
  {
   "cell_type": "code",
   "execution_count": 1,
   "metadata": {},
   "outputs": [
    {
     "name": "stdout",
     "output_type": "stream",
     "text": [
      "<class 'str'>\n"
     ]
    }
   ],
   "source": [
    "import requests\n",
    "from requests import Response\n",
    "youbike = 'https://tcgbusfs.blob.core.windows.net/dotapp/youbike/v2/youbike_immediate.json'\n",
    "try:\n",
    "    res:Response = requests.request('GET',youbike)\n",
    "    res.raise_for_status()\n",
    "except Exception:\n",
    "    print(\"連線出問題\")\n",
    "else:\n",
    "    print(type(res.text))"
   ]
  },
  {
   "cell_type": "code",
   "execution_count": 2,
   "metadata": {},
   "outputs": [],
   "source": [
    "from pydantic import BaseModel,RootModel,Field\n",
    "\n",
    "class UBike(BaseModel):\n",
    "    sna:str\n",
    "    sarea:str\n",
    "    mday:str\n",
    "    ar:str\n",
    "    act:bool\n",
    "    total:int\n",
    "    rents:int = Field(alias='available_rent_bikes')\n",
    "    returns:int = Field(alias='available_return_bikes')\n",
    "    lat:float = Field(alias='latitude')\n",
    "    lon:float = Field(alias='longitude')\n",
    "\n",
    "class UBikeRoot(RootModel):\n",
    "    root:list[UBike]\n",
    "\n",
    "datas:UBikeRoot = UBikeRoot.model_validate_json(res.text)"
   ]
  },
  {
   "cell_type": "code",
   "execution_count": 3,
   "metadata": {},
   "outputs": [
    {
     "data": {
      "text/plain": [
       "1463"
      ]
     },
     "execution_count": 3,
     "metadata": {},
     "output_type": "execute_result"
    }
   ],
   "source": [
    "youbikes = datas.model_dump()\n",
    "len(youbikes)"
   ]
  },
  {
   "cell_type": "code",
   "execution_count": 4,
   "metadata": {},
   "outputs": [
    {
     "data": {
      "text/plain": [
       "1450"
      ]
     },
     "execution_count": 4,
     "metadata": {},
     "output_type": "execute_result"
    }
   ],
   "source": [
    "youbikes_open = list(filter(lambda item:item['act'],youbikes))\n",
    "len(youbikes_open)"
   ]
  },
  {
   "cell_type": "code",
   "execution_count": 5,
   "metadata": {},
   "outputs": [
    {
     "data": {
      "text/plain": [
       "[9, 6, 5, 5, 5, 4, 3, 3, 2, 1, 1]"
      ]
     },
     "execution_count": 5,
     "metadata": {},
     "output_type": "execute_result"
    }
   ],
   "source": [
    "numbers = [3, 1, 4, 1, 5, 9, 2, 6, 5, 3, 5]\n",
    "sorted(numbers)\n",
    "sorted(numbers,reverse=True)"
   ]
  },
  {
   "cell_type": "code",
   "execution_count": 6,
   "metadata": {},
   "outputs": [
    {
     "data": {
      "text/plain": [
       "[('Alice', 25), ('Charlie', 23), ('Bob', 20)]"
      ]
     },
     "execution_count": 6,
     "metadata": {},
     "output_type": "execute_result"
    }
   ],
   "source": [
    "students = [(\"Alice\", 25), (\"Bob\", 20), (\"Charlie\", 23)]\n",
    "sorted(students,key=lambda item:item[1])\n",
    "sorted(students,key=lambda item:item[1],reverse=True)"
   ]
  },
  {
   "cell_type": "code",
   "execution_count": 8,
   "metadata": {},
   "outputs": [
    {
     "data": {
      "text/plain": [
       "[{'sna': 'YouBike2.0_基隆長興路口',\n",
       "  'sarea': '大安區',\n",
       "  'mday': '2024-09-30 23:27:14',\n",
       "  'ar': '基隆路/長興街(東南側)',\n",
       "  'act': True,\n",
       "  'total': 51,\n",
       "  'rents': 51,\n",
       "  'returns': 0,\n",
       "  'lat': 25.01705,\n",
       "  'lon': 121.54435},\n",
       " {'sna': 'YouBike2.0_興安華城',\n",
       "  'sarea': '中山區',\n",
       "  'mday': '2024-09-30 23:44:16',\n",
       "  'ar': '興安街53-4號對側',\n",
       "  'act': True,\n",
       "  'total': 62,\n",
       "  'rents': 51,\n",
       "  'returns': 10,\n",
       "  'lat': 25.05606,\n",
       "  'lon': 121.54175},\n",
       " {'sna': 'YouBike2.0_臺大水源舍區C棟',\n",
       "  'sarea': '臺大公館校區',\n",
       "  'mday': '2024-09-30 23:43:17',\n",
       "  'ar': '臺大水源舍區C棟西側',\n",
       "  'act': True,\n",
       "  'total': 99,\n",
       "  'rents': 55,\n",
       "  'returns': 44,\n",
       "  'lat': 25.01547,\n",
       "  'lon': 121.52892},\n",
       " {'sna': 'YouBike2.0_臺大男一舍前',\n",
       "  'sarea': '大安區',\n",
       "  'mday': '2024-09-30 23:58:17',\n",
       "  'ar': '長興街50號西北側',\n",
       "  'act': True,\n",
       "  'total': 61,\n",
       "  'rents': 59,\n",
       "  'returns': 2,\n",
       "  'lat': 25.01637,\n",
       "  'lon': 121.54535},\n",
       " {'sna': 'YouBike2.0_捷運公館站(3號出口)',\n",
       "  'sarea': '大安區',\n",
       "  'mday': '2024-09-30 23:58:17',\n",
       "  'ar': '捷運公館站(3號出口)西側',\n",
       "  'act': True,\n",
       "  'total': 99,\n",
       "  'rents': 73,\n",
       "  'returns': 14,\n",
       "  'lat': 25.01551,\n",
       "  'lon': 121.53374}]"
      ]
     },
     "execution_count": 8,
     "metadata": {},
     "output_type": "execute_result"
    }
   ],
   "source": [
    "youbikes_sorted = sorted(youbikes_open,key=lambda item:item['rents'])\n",
    "#可借最少數量的5個站點\n",
    "youbikes_sorted[:5]\n",
    "#可借最多數量的5個站點\n",
    "youbikes_sorted[-5:]"
   ]
  },
  {
   "cell_type": "code",
   "execution_count": null,
   "metadata": {},
   "outputs": [],
   "source": []
  }
 ],
 "metadata": {
  "kernelspec": {
   "display_name": "Python 3",
   "language": "python",
   "name": "python3"
  },
  "language_info": {
   "codemirror_mode": {
    "name": "ipython",
    "version": 3
   },
   "file_extension": ".py",
   "mimetype": "text/x-python",
   "name": "python",
   "nbconvert_exporter": "python",
   "pygments_lexer": "ipython3",
   "version": "3.10.14"
  }
 },
 "nbformat": 4,
 "nbformat_minor": 2
}
