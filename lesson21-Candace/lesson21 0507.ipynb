{
 "cells": [
  {
   "cell_type": "code",
   "execution_count": 22,
   "id": "e42c70ec",
   "metadata": {},
   "outputs": [
    {
     "name": "stdout",
     "output_type": "stream",
     "text": [
      "{None: ['C11962', '000000708021243', '05/02/2025', '72326', '', '', '', '', '', '', '', '', '', '', '', '', '', '', '', '', '', '', '', '', '', '', '', '06/01/2025']}\n",
      "{None: ['C11962', '000000708021243', '05/02/2025', '72326', '1ZC119620440221355', '', '', '', '', '15.4', '21.8', '454', 'WW Express Saver', '04/07/2025', 'KCT ENTERPRISES INC', 'NANCY YAN', 'NEW TAIPEI CITY,23141', 'TW', 'WHELEN AEROSPACE TECHNOLOGIES', 'CINDY REGO', 'SEBASTIAN,FL,32958', 'US', '', '0.00', '0.00', 'Worldwide Waybills', 'undefined', '06/01/2025']}\n",
      "{None: ['C11962', '000000708021243', '05/02/2025', '72326', '1ZC119620440509572', '', '', '', '', '0.5', '1', '005', 'WW Express Saver', '04/24/2025', 'KCT ENTERPRISES INC.', 'NANCY YAN', 'TAIPEI COUNTY,23141', 'TW', 'HERETIC STUDIO', 'DAVE CLARK', 'CENTERVILLE,UT,84014', 'US', '', '892.00', '4519.00', 'Worldwide Waybills', 'undefined', '06/01/2025']}\n",
      "{None: ['C11962', '000000708021243', '05/02/2025', '72326', '1ZC119620440557378', '', '', '', '', '5.5', '5.5', '005', 'WW Express Saver', '04/14/2025', 'KCT ENTERPRISES INC.', 'NANCY YAN', 'TAIPEI COUNTY,23141', 'TW', 'HERETIC STUDIO', 'DAVE CLARK', 'CENTERVILLE,UT,84014', 'US', '', '1926.00', '9746.00', 'Worldwide Waybills', 'undefined', '06/01/2025']}\n",
      "{None: ['C11962', '000000708021243', '05/02/2025', '72326', '1ZC119620442395692', '', '', '', '', '72', '73', '005', 'WW Express Saver', '04/01/2025', 'KCT ENTERPRISES INC', 'NANCY YAN', 'NEW TAIPEI CITY,23141', 'TW', 'KC HILITES, INC', '', 'FLAGSTAFF,AZ,86001871', 'US', '', '15904.00', '64828.00', 'Worldwide Waybills', 'undefined', '06/01/2025']}\n",
      "{None: ['C11962', '000000708021243', '05/02/2025', '72326', '1ZC119620442452987', '', '', '', '', '4.5', '4.5', '005', 'WW Express Saver', '04/28/2025', 'KCT ENTERPRISES INC.', 'NANCY YAN', 'TAIPEI COUNTY,23141', 'TW', 'KC HILITES, INC', 'CINDY LO', 'GARDENA,CA,902492461', 'US', '', '1699.00', '8601.00', 'Worldwide Waybills', 'undefined', '06/01/2025']}\n",
      "{None: ['C11962', '000000708021243', '05/02/2025', '72326', '1ZC119620442788786', '', '', '', '', '217.5', '222', '005', 'WW Express Saver', '04/16/2025', 'KCT ENTERPRISES INC', 'NANCY YAN', 'NEW TAIPEI CITY,23141', 'TW', 'KC HILITES, INC', '', 'FLAGSTAFF,AZ,86001871', 'US', '', '48461.00', '197533.00', 'Worldwide Waybills', 'undefined', '06/01/2025']}\n"
     ]
    }
   ],
   "source": [
    "import csv\n",
    "\n",
    "with open('invoice.csv',encoding='utf-8',newline='') as file:\n",
    "\n",
    "    reader = csv.DictReader(file)\n",
    "    for row in reader:\n",
    "        print(row)"
   ]
  },
  {
   "cell_type": "code",
   "execution_count": 23,
   "id": "18c7ee2e",
   "metadata": {},
   "outputs": [
    {
     "ename": "SyntaxError",
     "evalue": "incomplete input (2697904281.py, line 4)",
     "output_type": "error",
     "traceback": [
      "\u001b[0;36m  Cell \u001b[0;32mIn[23], line 4\u001b[0;36m\u001b[0m\n\u001b[0;31m    \u001b[0m\n\u001b[0m    ^\u001b[0m\n\u001b[0;31mSyntaxError\u001b[0m\u001b[0;31m:\u001b[0m incomplete input\n"
     ]
    }
   ],
   "source": [
    "import csv\n",
    "\n",
    "with open('invoice.csv',encoding='utf-8',newline='') as file:\n",
    "    "
   ]
  }
 ],
 "metadata": {
  "kernelspec": {
   "display_name": "Python 3",
   "language": "python",
   "name": "python3"
  },
  "language_info": {
   "codemirror_mode": {
    "name": "ipython",
    "version": 3
   },
   "file_extension": ".py",
   "mimetype": "text/x-python",
   "name": "python",
   "nbconvert_exporter": "python",
   "pygments_lexer": "ipython3",
   "version": "3.10.16"
  }
 },
 "nbformat": 4,
 "nbformat_minor": 5
}
