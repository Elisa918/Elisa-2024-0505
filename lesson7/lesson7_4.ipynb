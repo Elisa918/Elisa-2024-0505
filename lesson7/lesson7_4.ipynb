{
 "cells": [
  {
   "cell_type": "code",
   "execution_count": null,
   "metadata": {},
   "outputs": [],
   "source": [
    "import random\n",
    "import pyinputplus as pypi\n",
    "\n",
    "while(True):\n",
    "    min:int = 1\n",
    "    max:int = 100\n",
    "    count:int = 0\n",
    "\n",
    "    target:int = random.randint(min,max)\n",
    "    print(target)\n",
    "    print(\"===========猜數字遊戲==================\\n\")\n",
    "    while(True):    \n",
    "        keyin:int = pypi.inputInt(f\"猜數字範圍{min}~{max}:\",min=min,max=max)\n",
    "        print(keyin)\n",
    "        count += 1\n",
    "        if keyin == target:\n",
    "            print(f\"賓果!猜對了, 答案是:{keyin}\")\n",
    "            print(f\"您猜了{count}次\")\n",
    "            break\n",
    "        elif(keyin > target):\n",
    "            print(\"再小一點\")\n",
    "            max = keyin - 1\n",
    "            \n",
    "        elif(keyin < target):\n",
    "            print(\"再大一點\")\n",
    "            min = keyin + 1\n",
    "            \n",
    "        print(f\"您已經猜了{count}次\")\n",
    "    play_again:str = pypi.inputYesNo(\"請問還要繼續嗎?(y,n)\")\n",
    "    if play_again == 'no':\n",
    "        break\n",
    "\n",
    "print(\"遊戲結束\")"
   ]
  }
 ],
 "metadata": {
  "language_info": {
   "name": "python"
  }
 },
 "nbformat": 4,
 "nbformat_minor": 2
}
