{
 "cells": [
  {
   "cell_type": "code",
   "execution_count": null,
   "metadata": {},
   "outputs": [],
   "source": [
    "import numpy as np\n",
    "import pandas as pd\n",
    "students = np.random.randint(50,101,size=(50,5))\n",
    "stu = pd.DataFrame(students,\n",
    "             columns=['國文','英文','數學','地理','歷史'],\n",
    "             index=[f'第{i}號' for i in range(1,51)]\n",
    "             )\n",
    "stu"
   ]
  },
  {
   "cell_type": "code",
   "execution_count": null,
   "metadata": {},
   "outputs": [],
   "source": [
    "stu.index"
   ]
  },
  {
   "cell_type": "code",
   "execution_count": null,
   "metadata": {},
   "outputs": [],
   "source": [
    "stu.columns"
   ]
  },
  {
   "cell_type": "code",
   "execution_count": null,
   "metadata": {},
   "outputs": [],
   "source": [
    "#使用陣列運算取出所有學生的總分\n",
    "sum_series = stu['國文'] + stu['英文'] + stu['數學'] + stu['地理'] + stu['歷史']\n",
    "average_series = sum_series / 5\n",
    "average_series"
   ]
  },
  {
   "cell_type": "code",
   "execution_count": null,
   "metadata": {},
   "outputs": [],
   "source": [
    "stu['總分'] = sum_series\n",
    "stu['平均'] = average_series\n",
    "stu"
   ]
  },
  {
   "cell_type": "code",
   "execution_count": null,
   "metadata": {},
   "outputs": [],
   "source": [
    "#選取分數\n",
    "stu.iloc[:,:5]\n",
    "stu[['國文','英文','數學','歷史']]"
   ]
  },
  {
   "cell_type": "code",
   "execution_count": null,
   "metadata": {},
   "outputs": [],
   "source": [
    "np.sum(stu.iloc[:,:5],axis=1) #numpy的sum function\n",
    "stu.iloc[:,:5].sum(axis=1)#DataFrame的實體方法"
   ]
  }
 ],
 "metadata": {
  "kernelspec": {
   "display_name": "Python 3",
   "language": "python",
   "name": "python3"
  },
  "language_info": {
   "codemirror_mode": {
    "name": "ipython",
    "version": 3
   },
   "file_extension": ".py",
   "mimetype": "text/x-python",
   "name": "python",
   "nbconvert_exporter": "python",
   "pygments_lexer": "ipython3",
   "version": "3.10.14"
  }
 },
 "nbformat": 4,
 "nbformat_minor": 2
}
