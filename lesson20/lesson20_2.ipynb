{
 "cells": [
  {
   "cell_type": "code",
   "execution_count": null,
   "id": "611b1e07",
   "metadata": {},
   "outputs": [],
   "source": [
    "import pandas as pd\n",
    "df1 = pd.read_csv('2019~2023進出站人口數.csv',index_col='日期',usecols=['日期','車站名稱','進站人數','出站人數'])\n",
    "df1.iloc[:20]\n"
   ]
  },
  {
   "cell_type": "code",
   "execution_count": null,
   "id": "492ae137",
   "metadata": {},
   "outputs": [],
   "source": [
    "df1.loc['2019-04-23']"
   ]
  },
  {
   "cell_type": "code",
   "execution_count": null,
   "id": "2e63c9c9",
   "metadata": {},
   "outputs": [],
   "source": [
    "df1.loc['2019-04-23':'2019-05-23']"
   ]
  },
  {
   "cell_type": "code",
   "execution_count": null,
   "id": "dd14ffc8",
   "metadata": {},
   "outputs": [],
   "source": [
    "df2 = df1.reset_index().set_index(keys=['日期','車站名稱'])\n",
    "df2.columns.name = \"人數\"\n",
    "df2\n"
   ]
  },
  {
   "cell_type": "code",
   "execution_count": null,
   "id": "2c2a17c7",
   "metadata": {},
   "outputs": [],
   "source": [
    "s1 = df2.stack(level='人數')\n",
    "s1"
   ]
  },
  {
   "cell_type": "code",
   "execution_count": null,
   "id": "f2e99a32",
   "metadata": {},
   "outputs": [],
   "source": [
    "s1.unstack(level='車站名稱')"
   ]
  },
  {
   "cell_type": "code",
   "execution_count": null,
   "id": "9d96ded7",
   "metadata": {},
   "outputs": [],
   "source": [
    "s1"
   ]
  },
  {
   "cell_type": "code",
   "execution_count": null,
   "id": "cf95dae0",
   "metadata": {},
   "outputs": [],
   "source": [
    "s2 = s1['2019-04-23':'2019-04-30']\n",
    "s2"
   ]
  },
  {
   "cell_type": "code",
   "execution_count": null,
   "id": "1f154e1f",
   "metadata": {},
   "outputs": [],
   "source": [
    "s2.groupby(level='車站名稱').sum()"
   ]
  },
  {
   "cell_type": "code",
   "execution_count": null,
   "id": "15367a47",
   "metadata": {},
   "outputs": [],
   "source": [
    "s2.groupby(level=['車站名稱','人數']).sum()"
   ]
  }
 ],
 "metadata": {
  "kernelspec": {
   "display_name": "Python 3",
   "language": "python",
   "name": "python3"
  },
  "language_info": {
   "codemirror_mode": {
    "name": "ipython",
    "version": 3
   },
   "file_extension": ".py",
   "mimetype": "text/x-python",
   "name": "python",
   "nbconvert_exporter": "python",
   "pygments_lexer": "ipython3",
   "version": "3.10.16"
  }
 },
 "nbformat": 4,
 "nbformat_minor": 5
}
