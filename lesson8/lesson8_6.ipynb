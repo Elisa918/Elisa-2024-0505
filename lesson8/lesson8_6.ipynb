{
 "cells": [
  {
   "cell_type": "code",
   "execution_count": null,
   "metadata": {},
   "outputs": [],
   "source": [
    "#set\n",
    "#元素不可以重覆\n",
    "\n",
    "set1:set[int] = {1,1,2,2,3,3,4,5}\n",
    "set1"
   ]
  },
  {
   "cell_type": "code",
   "execution_count": null,
   "metadata": {},
   "outputs": [],
   "source": [
    "#一般不會直接操控set,會將set轉換為list\n",
    "l1:list[int] = list(set1)\n",
    "l1"
   ]
  }
 ],
 "metadata": {
  "language_info": {
   "name": "python"
  }
 },
 "nbformat": 4,
 "nbformat_minor": 2
}
