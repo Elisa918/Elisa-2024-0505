{
 "cells": [
  {
   "cell_type": "code",
   "execution_count": null,
   "metadata": {},
   "outputs": [],
   "source": [
    "#巢狀結構,2維資料\n",
    "from pprint import pprint\n",
    "\n",
    "students:list[list] = [\n",
    "    [\"robert\",89,65,90],\n",
    "    [\"jenny\",74,85,89],\n",
    "    [\"alice\",90,68,92]\n",
    "]\n",
    "pprint(students)\n",
    "for student in students:\n",
    "    print(student)"
   ]
  },
  {
   "cell_type": "code",
   "execution_count": null,
   "metadata": {},
   "outputs": [],
   "source": [
    "#巢狀結構,2維資料\n",
    "students:list[dict] = [\n",
    "    {'name':'robert','chinese':89,'english':65,'math':90},\n",
    "    {'name':'jenny','chinese':74,'english':85,'math':89},\n",
    "    {'name':'alice','chinese':90,'english':68,'math':92}\n",
    "]\n",
    "pprint(students)\n",
    "for student in students:\n",
    "    print(student)"
   ]
  }
 ],
 "metadata": {
  "language_info": {
   "name": "python"
  }
 },
 "nbformat": 4,
 "nbformat_minor": 2
}
