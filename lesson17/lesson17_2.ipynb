{
 "cells": [
  {
   "cell_type": "code",
   "execution_count": null,
   "metadata": {},
   "outputs": [],
   "source": [
    "import numpy as np\n",
    "import pandas as pd\n",
    "students = np.random.randint(50,101,size=(50,5))\n",
    "stu = pd.DataFrame(students,\n",
    "             columns=['國文','英文','數學','地理','歷史'],\n",
    "             index=[f'第{i}號' for i in range(1,51)]\n",
    "             )\n",
    "stu"
   ]
  },
  {
   "cell_type": "code",
   "execution_count": null,
   "metadata": {},
   "outputs": [],
   "source": [
    "#使用query(),搜尋值\n",
    "stu.query('國文<60')"
   ]
  },
  {
   "cell_type": "code",
   "execution_count": null,
   "metadata": {},
   "outputs": [],
   "source": [
    "\n",
    "stu.query('國文>=60 and 數學>=60')"
   ]
  },
  {
   "cell_type": "code",
   "execution_count": null,
   "metadata": {},
   "outputs": [],
   "source": []
  }
 ],
 "metadata": {
  "language_info": {
   "name": "python"
  }
 },
 "nbformat": 4,
 "nbformat_minor": 2
}
