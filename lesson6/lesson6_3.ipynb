{
 "cells": [
  {
   "cell_type": "code",
   "execution_count": null,
   "metadata": {},
   "outputs": [],
   "source": [
    "#小明想要存錢買一輛機車,機車每輛30000元，他將每月存的錢輸入，當存款足夠買機車時，就顯示提示訊息告知。\n",
    "import pyinputplus as pyip\n",
    "\n",
    "deposit = 0\n",
    "num = 0\n",
    "while deposit < 30000:\n",
    "    num += 1\n",
    "    input_value = pyip.inputInt(f\"請輸入第{num}月儲存的金額:\")\n",
    "    print(input_value)\n",
    "    deposit += input_value\n",
    "\n",
    "print(f\"您已經存了{deposit}元,共存了{num}個月\")"
   ]
  },
  {
   "cell_type": "code",
   "execution_count": null,
   "metadata": {},
   "outputs": [],
   "source": [
    "#while break\n",
    "while(True):\n",
    "    letter = input(\"請輸入小寫英文字[按q會離開]:\")\n",
    "    if letter == \"q\":\n",
    "        break\n",
    "    print(f\"您輸入的英文字是:{letter}\")\n",
    "print(\"應用程式結束\")"
   ]
  },
  {
   "cell_type": "code",
   "execution_count": null,
   "metadata": {},
   "outputs": [],
   "source": [
    "while(True):\n",
    "    value = input(\"請輸入整數,輸入[q]離開:\")\n",
    "    if value == 'q':\n",
    "        break\n",
    "    try:\n",
    "        valueInt = int(value)\n",
    "    except Exception:\n",
    "        print(\"輸入錯誤,請重新輸入\")\n",
    "        continue\n",
    "\n",
    "    print(f\"{valueInt ** 2}\")\n",
    "\n",
    "print(\"應用程式結束\")   "
   ]
  }
 ],
 "metadata": {
  "language_info": {
   "name": "python"
  }
 },
 "nbformat": 4,
 "nbformat_minor": 2
}
