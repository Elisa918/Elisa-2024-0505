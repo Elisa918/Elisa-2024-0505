{
 "cells": [
  {
   "cell_type": "code",
   "execution_count": 1,
   "metadata": {},
   "outputs": [
    {
     "name": "stdout",
     "output_type": "stream",
     "text": [
      "個股日成交資訊共有 1113 筆資料\n",
      "請輸入要隨機顯示的資料數(1~20): #282\n",
      "{ '證券代號': '1598',\n",
      "  '證券名稱': '岱宇',\n",
      "  '成交股數': '1,014,989',\n",
      "  '成交金額': '36,584,150',\n",
      "  '開盤價': '35.65',\n",
      "  '最高價': '36.60',\n",
      "  '最低價': '35.25',\n",
      "  '收盤價': '36.60',\n",
      "  '漲跌價差': ' 0.00',\n",
      "  '成交筆數': '308'}\n",
      "#1020\n",
      "{ '證券代號': '8112',\n",
      "  '證券名稱': '至上',\n",
      "  '成交股數': '4,799,068',\n",
      "  '成交金額': '143,724,869',\n",
      "  '開盤價': '30.30',\n",
      "  '最高價': '30.55',\n",
      "  '最低價': '29.50',\n",
      "  '收盤價': '29.50',\n",
      "  '漲跌價差': '-0.60',\n",
      "  '成交筆數': '2,940'}\n",
      "#915\n",
      "{ '證券代號': '6142',\n",
      "  '證券名稱': '友勁',\n",
      "  '成交股數': '309,861',\n",
      "  '成交金額': '1,353,370',\n",
      "  '開盤價': '4.19',\n",
      "  '最高價': '4.50',\n",
      "  '最低價': '4.19',\n",
      "  '收盤價': '4.38',\n",
      "  '漲跌價差': '-0.07',\n",
      "  '成交筆數': '101'}\n",
      "#618\n",
      "{ '證券代號': '2852',\n",
      "  '證券名稱': '第一保',\n",
      "  '成交股數': '254,243',\n",
      "  '成交金額': '2,910,354',\n",
      "  '開盤價': '11.55',\n",
      "  '最高價': '11.65',\n",
      "  '最低價': '11.35',\n",
      "  '收盤價': '11.45',\n",
      "  '漲跌價差': '-0.10',\n",
      "  '成交筆數': '132'}\n",
      "#128\n",
      "{ '證券代號': '01004T',\n",
      "  '證券名稱': '土銀富邦R2',\n",
      "  '成交股數': '103,000',\n",
      "  '成交金額': '1,477,280',\n",
      "  '開盤價': '14.23',\n",
      "  '最高價': '14.38',\n",
      "  '最低價': '14.23',\n",
      "  '收盤價': '14.36',\n",
      "  '漲跌價差': '-0.02',\n",
      "  '成交筆數': '16'}\n"
     ]
    }
   ],
   "source": [
    "import csv\n",
    "from csv import DictReader\n",
    "import pyinputplus as pyip\n",
    "from random import choices\n",
    "from pprint import pprint\n",
    "\n",
    "def main():\n",
    "    fname = \"個股日成交資訊.csv\"\n",
    "    with open(fname, encoding=\"UTF-8\", newline='') as f:\n",
    "        reader:DictReader = csv.DictReader(f)\n",
    "        lst:list[dict] = list(reader)\n",
    "        print(str.format(\"{}共有 {} 筆資料\", fname.removesuffix(\".csv\"), len(lst)))\n",
    "        n = pyip.inputInt(\"請輸入要隨機顯示的資料數(1~20): \", min=1, max=20)\n",
    "        lst_2:list[dict] = choices(lst, k=n)\n",
    "        for d in lst_2:\n",
    "             idx = lst.index(d)\n",
    "             print(f\"#{idx}\")\n",
    "             pprint(d, indent=2, sort_dicts=False)\n",
    "\n",
    "\n",
    "\n",
    "if  __name__ == '__main__':\n",
    "\tmain()"
   ]
  }
 ],
 "metadata": {
  "kernelspec": {
   "display_name": "Python 3",
   "language": "python",
   "name": "python3"
  },
  "language_info": {
   "codemirror_mode": {
    "name": "ipython",
    "version": 3
   },
   "file_extension": ".py",
   "mimetype": "text/x-python",
   "name": "python",
   "nbconvert_exporter": "python",
   "pygments_lexer": "ipython3",
   "version": "3.10.14"
  }
 },
 "nbformat": 4,
 "nbformat_minor": 2
}
