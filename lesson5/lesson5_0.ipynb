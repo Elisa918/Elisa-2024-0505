{
 "cells": [
  {
   "cell_type": "code",
   "execution_count": 1,
   "metadata": {},
   "outputs": [
    {
     "name": "stdout",
     "output_type": "stream",
     "text": [
      "您的姓名是:elisa\n",
      "您的BMI值是:23.23\n"
     ]
    }
   ],
   "source": [
    "name = input(\"請輸入您的姓名\")\n",
    "height = float(input(\"請輸入您的身高(cm)\"))\n",
    "weight = float(input(\"請輸入您的體重(kg)\"))\n",
    "BMI = float(weight/(height/100)**2)\n",
    "print(f\"您的姓名是:{name}\")\n",
    "print(f\"您的BMI值是:{round(BMI,ndigits=2)}\")"
   ]
  },
  {
   "cell_type": "code",
   "execution_count": null,
   "metadata": {},
   "outputs": [],
   "source": [
    "#學生的總分為300\n",
    "#有些學生可以加分5%\n",
    "\n",
    "scores = int(input(\"請輸入學生分數(最高300分):\"))\n",
    "is_add = input(\"學生是否符合加分條件?(y,n)\")\n",
    "if is_add == \"y\":\n",
    "    scores *= 1.05\n",
    "\n",
    "print(f\"學生分數是:{round(scores,ndigits=0)}\")"
   ]
  },
  {
   "cell_type": "code",
   "execution_count": null,
   "metadata": {},
   "outputs": [],
   "source": [
    "#學生的總分為300\n",
    "#有些學生可以加分5%\n",
    "#如果加分超過300,就以300分為準\n",
    "\n",
    "scores = int(input(\"請輸入學生分數(最高300分):\"))\n",
    "is_add = input(\"學生是否符合加分條件?(y,n)\")\n",
    "if is_add == \"y\":\n",
    "    scores *= 1.05\n",
    "    if scores > 300:\n",
    "        scores = 300\n",
    "\n",
    "print(f\"學生分數是:{round(scores,ndigits=0)}\")"
   ]
  },
  {
   "cell_type": "code",
   "execution_count": null,
   "metadata": {},
   "outputs": [],
   "source": [
    "try:\n",
    "    money = int(input(\"請輸入金額:\")) \n",
    "    print(money)   \n",
    "except ValueError:\n",
    "    print(\"格式錯誤\")\n",
    "print(\"應用程式結束\")"
   ]
  },
  {
   "cell_type": "code",
   "execution_count": null,
   "metadata": {},
   "outputs": [],
   "source": [
    "try:\n",
    "    money = int(input(\"請輸入金額:\")) \n",
    "    print(money)   \n",
    "except ValueError:\n",
    "    print(\"格式錯誤\")\n",
    "print(\"應用程式結束\")"
   ]
  },
  {
   "cell_type": "code",
   "execution_count": null,
   "metadata": {},
   "outputs": [],
   "source": [
    "try:\n",
    "    money = int(input(\"請輸入金額:\")) \n",
    "    print(money)   \n",
    "except ValueError:\n",
    "    print(\"格式錯誤\")\n",
    "except Exception:\n",
    "    print(\"不知名的錯誤\")\n",
    "print(\"應用程式結束\")"
   ]
  },
  {
   "cell_type": "code",
   "execution_count": null,
   "metadata": {},
   "outputs": [],
   "source": [
    "#學生的總分為300\n",
    "#有些學生可以加分5%\n",
    "#如果加分超過300,就以300分為準\n",
    "try:\n",
    "    scores = int(input(\"請輸入學生分數(最高300分):\"))\n",
    "    is_add = input(\"學生是否符合加分條件?(y,n)\")\n",
    "    if is_add == \"y\":\n",
    "        scores *= 1.05\n",
    "        if scores > 300:\n",
    "            scores = 300\n",
    "\n",
    "    print(f\"學生分數是:{round(scores,ndigits=0)}\")\n",
    "except ValueError:\n",
    "    print(\"格式輸入錯誤\")\n",
    "except Exception:\n",
    "    print(\"不知名的錯誤\")\n",
    "\n",
    "print(\"應用程式結束\")"
   ]
  },
  {
   "cell_type": "code",
   "execution_count": null,
   "metadata": {},
   "outputs": [],
   "source": [
    "#學生的總分為300\n",
    "#有些學生可以加分5%\n",
    "#如果加分超過300,就以300分為準\n",
    "try:\n",
    "    scores = int(input(\"請輸入學生分數(最高300分):\"))\n",
    "    if scores <= 300 and scores >= 0:        \n",
    "        is_add = input(\"學生是否符合加分條件?(y,n)\")\n",
    "        if is_add == \"y\":\n",
    "            scores *= 1.05\n",
    "            if scores > 300:\n",
    "                scores = 300\n",
    "\n",
    "        print(f\"學生分數是:{round(scores,ndigits=0)}\")      \n",
    "            \n",
    "    else:\n",
    "        print(\"輸入的範圍不正確!\")\n",
    "except ValueError:\n",
    "    print(\"格式輸入錯誤\")\n",
    "except Exception:\n",
    "    print(\"不知名的錯誤\")\n",
    "\n",
    "print(\"應用程式結束\")"
   ]
  },
  {
   "cell_type": "code",
   "execution_count": 1,
   "metadata": {},
   "outputs": [
    {
     "name": "stdout",
     "output_type": "stream",
     "text": [
      "你的体重是58.0,你的身高是158.0,你的BMI是23.23\n",
      "你的BMI是:23.233456176894723\n"
     ]
    },
    {
     "data": {
      "text/plain": [
       "float"
      ]
     },
     "execution_count": 1,
     "metadata": {},
     "output_type": "execute_result"
    }
   ],
   "source": [
    "#这是我写滴\n",
    "weight=float(input(\"请输入你的体重(kg):\"))\n",
    "height=float(input(\"请输入你的身高(cm):\"))\n",
    "0\n",
    "BMI=weight/(height/100)**2\n",
    "\n",
    "print(f\"你的体重是{weight},你的身高是{height},你的BMI是{round(BMI,2)}\")\n",
    "\n",
    "print(f\"你的BMI是:{BMI}\")\n",
    "type(BMI)\n"
   ]
  },
  {
   "cell_type": "code",
   "execution_count": 4,
   "metadata": {},
   "outputs": [
    {
     "name": "stdout",
     "output_type": "stream",
     "text": [
      "你的身高是 158.0cm, 體重是 58.0kg, BMI是 23.23346\n"
     ]
    }
   ],
   "source": [
    "height = float(input(\"請輸入身高(cm): \"))\n",
    "weight = float(input(\"請輸入體重(kg): \"))\n",
    "\n",
    "BMI = weight / (height / 100) ** 2\n",
    "\n",
    "print(f\"你的身高是 {height}cm, 體重是 {weight}kg, BMI是 {round(BMI, 5)}\")"
   ]
  }
 ],
 "metadata": {
  "kernelspec": {
   "display_name": "Python 3",
   "language": "python",
   "name": "python3"
  },
  "language_info": {
   "codemirror_mode": {
    "name": "ipython",
    "version": 3
   },
   "file_extension": ".py",
   "mimetype": "text/x-python",
   "name": "python",
   "nbconvert_exporter": "python",
   "pygments_lexer": "ipython3",
   "version": "3.10.14"
  }
 },
 "nbformat": 4,
 "nbformat_minor": 2
}
