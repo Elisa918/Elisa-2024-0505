{
 "cells": [
  {
   "cell_type": "code",
   "execution_count": 22,
   "metadata": {},
   "outputs": [
    {
     "name": "stdout",
     "output_type": "stream",
     "text": [
      "<class 'pandas.core.frame.DataFrame'>\n",
      "Index: 839 entries, 亞泥 to 世紀鋼\n",
      "Data columns (total 4 columns):\n",
      " #   Column     Non-Null Count  Dtype \n",
      "---  ------     --------------  ----- \n",
      " 0   資料年月       839 non-null    int64 \n",
      " 1   公司代號       839 non-null    int64 \n",
      " 2   產業別        839 non-null    object\n",
      " 3   營業收入-當月營收  839 non-null    int64 \n",
      "dtypes: int64(3), object(1)\n",
      "memory usage: 32.8+ KB\n"
     ]
    }
   ],
   "source": [
    "import pandas as pd\n",
    "T1=pd.read_csv(\"上市公司資料.csv\")\n",
    "T2 =T1[[\"公司名稱\",\"資料年月\",\"公司代號\",\"產業別\",\"營業收入-當月營收\"]]\n",
    "T3 = T2.set_index(\"公司名稱\")\n",
    "T4 = \"\"\n",
    "\n",
    "T3.info()"
   ]
  }
 ],
 "metadata": {
  "kernelspec": {
   "display_name": "Python 3",
   "language": "python",
   "name": "python3"
  },
  "language_info": {
   "codemirror_mode": {
    "name": "ipython",
    "version": 3
   },
   "file_extension": ".py",
   "mimetype": "text/x-python",
   "name": "python",
   "nbconvert_exporter": "python",
   "pygments_lexer": "ipython3",
   "version": "3.10.16"
  }
 },
 "nbformat": 4,
 "nbformat_minor": 2
}
