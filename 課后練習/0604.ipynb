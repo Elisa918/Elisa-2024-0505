{
 "cells": [
  {
   "cell_type": "code",
   "execution_count": 7,
   "metadata": {},
   "outputs": [
    {
     "name": "stdout",
     "output_type": "stream",
     "text": [
      "你的体重是：58.0 kgs\n",
      "你的身高是： 158.0cm\n",
      "你的BMI是23.233456176894723\n"
     ]
    }
   ],
   "source": [
    "weight=float(input(\"请输入你的体重：kgs\"))\n",
    "height=float(input(\"请输入你的身高：cm\"))\n",
    "BMI=weight/(height/100)**2\n",
    "\n",
    "print(f'你的体重是：{weight} kgs')\n",
    "print(f'你的身高是： {height}cm')\n",
    "print(f'你的BMI是{BMI}')\n",
    "if>=20\n"
   ]
  }
 ],
 "metadata": {
  "kernelspec": {
   "display_name": "Python 3",
   "language": "python",
   "name": "python3"
  },
  "language_info": {
   "codemirror_mode": {
    "name": "ipython",
    "version": 3
   },
   "file_extension": ".py",
   "mimetype": "text/x-python",
   "name": "python",
   "nbconvert_exporter": "python",
   "pygments_lexer": "ipython3",
   "version": "3.10.14"
  }
 },
 "nbformat": 4,
 "nbformat_minor": 2
}
