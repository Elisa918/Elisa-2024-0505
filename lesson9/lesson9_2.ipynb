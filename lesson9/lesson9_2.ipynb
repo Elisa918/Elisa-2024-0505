{
 "cells": [
  {
   "cell_type": "code",
   "execution_count": 1,
   "metadata": {},
   "outputs": [
    {
     "name": "stdout",
     "output_type": "stream",
     "text": [
      "<class '__main__.Person'>\n",
      "<class '__main__.Person'>\n"
     ]
    }
   ],
   "source": [
    "class Person():\n",
    "    pass\n",
    "\n",
    "p1:Person = Person()\n",
    "print(type(p1))\n",
    "\n",
    "p2:Person = Person()\n",
    "print(type(p2))"
   ]
  },
  {
   "cell_type": "code",
   "execution_count": null,
   "metadata": {},
   "outputs": [],
   "source": [
    "#建立實體的attribute(屬性)\n",
    "class Person():\n",
    "    def __init__(self,n:str): #自訂的init\n",
    "        self.name = n\n",
    "\n",
    "    def __repr__(self) -> str:\n",
    "        return f'我的名字叫{self.name}'"
   ]
  },
  {
   "cell_type": "code",
   "execution_count": null,
   "metadata": {},
   "outputs": [],
   "source": [
    "p1:Person = Person(\"徐國堂\")\n",
    "print(p1.name)\n",
    "print(p1)\n",
    "\n",
    "p2:Person = Person(\"robert\")\n",
    "print(p2.name)\n",
    "print(p2)"
   ]
  },
  {
   "cell_type": "code",
   "execution_count": null,
   "metadata": {},
   "outputs": [],
   "source": [
    "#建立實體的attribute(屬性)\n",
    "class Person():\n",
    "    def __init__(self,n:str): #自訂的init\n",
    "        self.name = n\n",
    "\n",
    "    def __repr__(self) -> str:\n",
    "        return f'我的名字叫{self.name}'\n",
    "\n",
    "#繼承\n",
    "class Student(Person):\n",
    "    def __init__(self,n:str,ch:int,en:int,ma:int):\n",
    "        super().__init__(n) #執行父類別的init\n",
    "        self.chinese = ch\n",
    "        self.english = en\n",
    "        self.math = ma"
   ]
  },
  {
   "cell_type": "code",
   "execution_count": null,
   "metadata": {},
   "outputs": [],
   "source": [
    "s1 = Student(n=\"徐國堂\",ch=67,en=96,ma=65)\n",
    "print(type(s1))\n",
    "s1.chinese = 100\n",
    "s1.english = 100\n",
    "s1.math = 100\n",
    "print(s1.name,s1.chinese,s1.english,s1.math)\n",
    "print(s1)\n",
    "\n",
    "s2 = Student(n=\"robert\",ch=91,en=85,ma=95)\n",
    "print(type(s2))\n",
    "print(s2.name,s2.chinese,s2.english,s2.math)\n",
    "print(s2)"
   ]
  },
  {
   "cell_type": "code",
   "execution_count": null,
   "metadata": {},
   "outputs": [],
   "source": [
    "#建立實體的attribute(屬性)\n",
    "class Person():\n",
    "    def __init__(self,n:str): #自訂的init\n",
    "        self.name = n\n",
    "\n",
    "    def __repr__(self) -> str:\n",
    "        return f'我的名字叫{self.name}'\n",
    "\n",
    "#繼承-不可以更改的property(屬性)\n",
    "class Student(Person):\n",
    "    def __init__(self,n:str,ch:int,en:int,ma:int):\n",
    "        super().__init__(n) #執行父類別的init\n",
    "        self.__chinese = ch\n",
    "        self.__english = en\n",
    "        self.__math = ma\n",
    "\n",
    "    @property\n",
    "    def chinese(self) -> int:\n",
    "        return self.__chinese\n",
    "    \n",
    "    @property\n",
    "    def english(self) -> int:\n",
    "        return self.__english\n",
    "    \n",
    "    @property\n",
    "    def math(self) -> int:\n",
    "        return self.__math\n",
    "    \n",
    "    def __repr__(self) -> str:\n",
    "        message:str = super().__repr__()\n",
    "        message += \"\\n我是一個學生\"\n",
    "        return message"
   ]
  },
  {
   "cell_type": "code",
   "execution_count": null,
   "metadata": {},
   "outputs": [],
   "source": [
    "s1 = Student(n=\"徐國堂\",ch=67,en=96,ma=65)\n",
    "print(type(s1))\n",
    "print(s1.name,s1.chinese,s1.english,s1.math)\n",
    "print(s1)\n",
    "\n",
    "s2 = Student(n=\"robert\",ch=91,en=85,ma=95)\n",
    "print(type(s2))\n",
    "print(s2.name,s2.chinese,s2.english,s2.math)\n",
    "print(s2)"
   ]
  },
  {
   "cell_type": "code",
   "execution_count": null,
   "metadata": {},
   "outputs": [],
   "source": [
    "#建立實體的attribute(屬性)\n",
    "class Person():\n",
    "    def __init__(self,n:str): #自訂的init\n",
    "        self.name = n\n",
    "\n",
    "    def __repr__(self) -> str:\n",
    "        return f'我的名字叫{self.name}'\n",
    "\n",
    "#繼承-實體的method()\n",
    "class Student(Person):\n",
    "    def __init__(self,n:str,ch:int,en:int,ma:int):\n",
    "        super().__init__(n) #執行父類別的init\n",
    "        self.__chinese = ch\n",
    "        self.__english = en\n",
    "        self.__math = ma\n",
    "\n",
    "    @property\n",
    "    def chinese(self) -> int:\n",
    "        return self.__chinese\n",
    "    \n",
    "    @property\n",
    "    def english(self) -> int:\n",
    "        return self.__english\n",
    "    \n",
    "    @property\n",
    "    def math(self) -> int:\n",
    "        return self.__math\n",
    "    \n",
    "    def __repr__(self) -> str:\n",
    "        message:str = super().__repr__()\n",
    "        message += \"\\n我是一個學生\"\n",
    "        return message\n",
    "    \n",
    "    def sum(self)->int: #實體的method\n",
    "        return self.chinese + self.english + self.math\n",
    "    \n",
    "    def average(self)->float:#實體的method\n",
    "        return round(self.sum() / 3.0,ndigits=2)"
   ]
  },
  {
   "cell_type": "code",
   "execution_count": null,
   "metadata": {},
   "outputs": [],
   "source": [
    "s1 = Student(n=\"徐國堂\",ch=67,en=96,ma=65)\n",
    "print(type(s1))\n",
    "print(s1.name,s1.chinese,s1.english,s1.math)\n",
    "print(s1)\n",
    "print(f\"s1的總分是{s1.sum()}\")\n",
    "print(f\"s1的平均是{s1.average()}\")\n",
    "print(\"====================\")\n",
    "\n",
    "s2 = Student(n=\"robert\",ch=91,en=85,ma=95)\n",
    "print(type(s2))\n",
    "print(s2.name,s2.chinese,s2.english,s2.math)\n",
    "print(s2)\n",
    "print(f\"s2的總分是{s2.sum()}\")\n",
    "print(f\"s2的平均是{s2.average()}\")"
   ]
  }
 ],
 "metadata": {
  "kernelspec": {
   "display_name": "Python 3",
   "language": "python",
   "name": "python3"
  },
  "language_info": {
   "codemirror_mode": {
    "name": "ipython",
    "version": 3
   },
   "file_extension": ".py",
   "mimetype": "text/x-python",
   "name": "python",
   "nbconvert_exporter": "python",
   "pygments_lexer": "ipython3",
   "version": "3.10.14"
  }
 },
 "nbformat": 4,
 "nbformat_minor": 2
}
